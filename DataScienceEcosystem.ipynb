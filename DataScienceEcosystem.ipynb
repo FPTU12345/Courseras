{
  "metadata": {
    "kernelspec": {
      "name": "python",
      "display_name": "Python (Pyodide)",
      "language": "python"
    },
    "language_info": {
      "codemirror_mode": {
        "name": "python",
        "version": 3
      },
      "file_extension": ".py",
      "mimetype": "text/x-python",
      "name": "python",
      "nbconvert_exporter": "python",
      "pygments_lexer": "ipython3",
      "version": "3.8"
    }
  },
  "nbformat_minor": 5,
  "nbformat": 4,
  "cells": [
    {
      "cell_type": "markdown",
      "source": "# Data Science Tools and Ecosystem",
      "metadata": {},
      "id": "b0ccf8e8-f338-42e1-8843-5164aa902dd6"
    },
    {
      "cell_type": "markdown",
      "source": "In this notebook, Data Science Tools and Ecosystem are summarized.",
      "metadata": {},
      "id": "13b94621-42da-4f61-9d93-f4e5c3df73e3"
    },
    {
      "cell_type": "markdown",
      "source": "Some of the popular languages that Data Scientists use are:\n1. Python\n2. R\n3. SQL",
      "metadata": {},
      "id": "584fd69c-9062-4fa9-8cd8-285a183970f9"
    },
    {
      "cell_type": "markdown",
      "source": "Some of the commonly used libraries used by Data Scientists include:\n1. Pandas\n2. Numpy\n3. Seaborn\n4. Matplotpy",
      "metadata": {},
      "id": "6a2a684c-b77b-4c6d-9894-7004856cfe42"
    },
    {
      "cell_type": "markdown",
      "source": "| Data Science Tools |\n|---|\n| Github |\n| Jupyter Notebook |\n| RStudio IDE|",
      "metadata": {},
      "id": "0e64f228-efb1-4167-abea-684d35d50693"
    },
    {
      "cell_type": "markdown",
      "source": "### Below are a few examples of evaluating arithmetic expressions in Python",
      "metadata": {},
      "id": "84070e71-30bc-47b7-b059-7051c12f124c"
    },
    {
      "cell_type": "code",
      "source": "# This a simple arithmetic expression to mutiply then add integers\n(3*4)+5",
      "metadata": {
        "trusted": true
      },
      "execution_count": 3,
      "outputs": [
        {
          "execution_count": 3,
          "output_type": "execute_result",
          "data": {
            "text/plain": "17"
          },
          "metadata": {}
        }
      ],
      "id": "7d837620-8175-4fd5-b180-68281fb33e84"
    },
    {
      "cell_type": "code",
      "source": "# This will convert 200 minutes to hours by diving by 60\n200/60",
      "metadata": {
        "trusted": true
      },
      "execution_count": 4,
      "outputs": [
        {
          "execution_count": 4,
          "output_type": "execute_result",
          "data": {
            "text/plain": "3.3333333333333335"
          },
          "metadata": {}
        }
      ],
      "id": "c2ebd9b9-eee4-4b63-bb5a-97933964b189"
    },
    {
      "cell_type": "markdown",
      "source": "**Objectives**\n* Popular languages for data science\n* Popular libraries for data science\n* Popular tools for data science\n* Examples of arithmetic expressions in Python\n  * (3*4)+5\n  * 200 min = ? hours",
      "metadata": {},
      "id": "dfe333a3-a606-4e22-b21b-c28a72827e2f"
    },
    {
      "cell_type": "markdown",
      "source": "## Minh",
      "metadata": {},
      "id": "44c7746e-36a6-4261-99f3-88514310ea2f"
    }
  ]
}